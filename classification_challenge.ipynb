{
  "nbformat": 4,
  "nbformat_minor": 0,
  "metadata": {
    "colab": {
      "name": "classification_challenge.ipynb",
      "provenance": [],
      "collapsed_sections": []
    },
    "kernelspec": {
      "name": "python3",
      "display_name": "Python 3"
    }
  },
  "cells": [
    {
      "cell_type": "code",
      "metadata": {
        "id": "rkqv4GLCB716",
        "colab_type": "code",
        "colab": {}
      },
      "source": [
        "from google.colab import drive\n",
        "drive.mount('/content/gdrive')"
      ],
      "execution_count": null,
      "outputs": []
    },
    {
      "cell_type": "markdown",
      "metadata": {
        "id": "S0REq5ByHRnz",
        "colab_type": "text"
      },
      "source": [
        "#### Installing required libraries\n",
        "\n",
        "* missingpy for handling missing values\n",
        "* imblearn for data sampling"
      ]
    },
    {
      "cell_type": "code",
      "metadata": {
        "id": "5dIHJVpyCJMA",
        "colab_type": "code",
        "colab": {
          "base_uri": "https://localhost:8080/",
          "height": 224
        },
        "outputId": "94e2470b-b09e-4e49-ae5a-815d3b45187e"
      },
      "source": [
        "!pip install missingpy\n",
        "!pip install imblearn"
      ],
      "execution_count": null,
      "outputs": [
        {
          "output_type": "stream",
          "text": [
            "Collecting missingpy\n",
            "\u001b[?25l  Downloading https://files.pythonhosted.org/packages/b5/be/998d04d27054b58f0974b5f09f8457778a0a72d4355e0b7ae877b6cfb850/missingpy-0.2.0-py3-none-any.whl (49kB)\n",
            "\r\u001b[K     |██████▊                         | 10kB 17.0MB/s eta 0:00:01\r\u001b[K     |█████████████▍                  | 20kB 1.7MB/s eta 0:00:01\r\u001b[K     |████████████████████            | 30kB 2.2MB/s eta 0:00:01\r\u001b[K     |██████████████████████████▊     | 40kB 2.5MB/s eta 0:00:01\r\u001b[K     |████████████████████████████████| 51kB 1.7MB/s \n",
            "\u001b[?25hInstalling collected packages: missingpy\n",
            "Successfully installed missingpy-0.2.0\n",
            "Requirement already satisfied: imblearn in /usr/local/lib/python3.6/dist-packages (0.0)\n",
            "Requirement already satisfied: imbalanced-learn in /usr/local/lib/python3.6/dist-packages (from imblearn) (0.4.3)\n",
            "Requirement already satisfied: scipy>=0.13.3 in /usr/local/lib/python3.6/dist-packages (from imbalanced-learn->imblearn) (1.4.1)\n",
            "Requirement already satisfied: scikit-learn>=0.20 in /usr/local/lib/python3.6/dist-packages (from imbalanced-learn->imblearn) (0.22.2.post1)\n",
            "Requirement already satisfied: numpy>=1.8.2 in /usr/local/lib/python3.6/dist-packages (from imbalanced-learn->imblearn) (1.18.5)\n",
            "Requirement already satisfied: joblib>=0.11 in /usr/local/lib/python3.6/dist-packages (from scikit-learn>=0.20->imbalanced-learn->imblearn) (0.15.1)\n"
          ],
          "name": "stdout"
        }
      ]
    },
    {
      "cell_type": "markdown",
      "metadata": {
        "id": "IRN_WsOXYWeZ",
        "colab_type": "text"
      },
      "source": [
        "#### Importing libraries"
      ]
    },
    {
      "cell_type": "code",
      "metadata": {
        "id": "e6Gd_jN6CPQT",
        "colab_type": "code",
        "colab": {
          "base_uri": "https://localhost:8080/",
          "height": 139
        },
        "outputId": "8520ff7d-4a09-4c16-91fb-a683275221a3"
      },
      "source": [
        "import pandas as pd\n",
        "import numpy as np\n",
        "import os, shutil\n",
        "import pprint\n",
        "from collections import Counter\n",
        "import joblib\n",
        "\n",
        "from sklearn.model_selection import train_test_split, StratifiedKFold\n",
        "from sklearn.ensemble import RandomForestClassifier\n",
        "from sklearn.metrics import recall_score\n",
        "from sklearn.pipeline import Pipeline\n",
        "from sklearn.svm import SVC\n",
        "\n",
        "\n",
        "\n",
        "from xgboost import XGBClassifier\n",
        "from missingpy import MissForest\n",
        "from imblearn import over_sampling, under_sampling\n",
        "\n",
        "import matplotlib.pyplot as plt\n",
        "import seaborn as sns\n",
        "\n",
        "from google.colab import files\n",
        "\n",
        "import warnings\n",
        "warnings.filterwarnings(\"ignore\")"
      ],
      "execution_count": null,
      "outputs": [
        {
          "output_type": "stream",
          "text": [
            "/usr/local/lib/python3.6/dist-packages/sklearn/utils/deprecation.py:144: FutureWarning: The sklearn.neighbors.base module is  deprecated in version 0.22 and will be removed in version 0.24. The corresponding classes / functions should instead be imported from sklearn.neighbors. Anything that cannot be imported from sklearn.neighbors is now part of the private API.\n",
            "  warnings.warn(message, FutureWarning)\n",
            "/usr/local/lib/python3.6/dist-packages/sklearn/externals/six.py:31: FutureWarning: The module is deprecated in version 0.21 and will be removed in version 0.23 since we've dropped support for Python 2.7. Please rely on the official version of six (https://pypi.org/project/six/).\n",
            "  \"(https://pypi.org/project/six/).\", FutureWarning)\n",
            "/usr/local/lib/python3.6/dist-packages/statsmodels/tools/_testing.py:19: FutureWarning: pandas.util.testing is deprecated. Use the functions in the public API at pandas.testing instead.\n",
            "  import pandas.util.testing as tm\n"
          ],
          "name": "stderr"
        }
      ]
    },
    {
      "cell_type": "markdown",
      "metadata": {
        "id": "PgL4EdnGYdtm",
        "colab_type": "text"
      },
      "source": [
        "#### Loading data"
      ]
    },
    {
      "cell_type": "code",
      "metadata": {
        "id": "8ONFEqvlCQ8A",
        "colab_type": "code",
        "colab": {
          "base_uri": "https://localhost:8080/",
          "height": 34
        },
        "outputId": "cda8d350-efb8-466d-f91e-7961df7b3cce"
      },
      "source": [
        "DATA_PATH = 'gdrive/My Drive/Colab Notebooks/challenges/Novartis_ds/data'\n",
        "\n",
        "train = pd.read_csv(os.path.join(DATA_PATH, 'Train.csv'))\n",
        "test_df = pd.read_csv(os.path.join(DATA_PATH, 'Test.csv'))\n",
        "print(\"We have {} rows and {} columns\".format(train.shape[0], train.shape[1]))\n"
      ],
      "execution_count": null,
      "outputs": [
        {
          "output_type": "stream",
          "text": [
            "We have 23856 rows and 18 columns\n"
          ],
          "name": "stdout"
        }
      ]
    },
    {
      "cell_type": "markdown",
      "metadata": {
        "id": "t4PfkuQNHto5",
        "colab_type": "text"
      },
      "source": [
        "#### Target varaible distribution"
      ]
    },
    {
      "cell_type": "code",
      "metadata": {
        "id": "qTMIZqpVEGwo",
        "colab_type": "code",
        "colab": {
          "base_uri": "https://localhost:8080/",
          "height": 333
        },
        "outputId": "73d5f44d-2330-4d73-88fc-5402a563eb04"
      },
      "source": [
        "# Target value distribution\n",
        "target_vc = train.MULTIPLE_OFFENSE.value_counts()\n",
        "pp = pprint.PrettyPrinter()\n",
        "pp.pprint(target_vc)\n",
        "\n",
        "sns.barplot(x = target_vc.index, y = target_vc.values)"
      ],
      "execution_count": null,
      "outputs": [
        {
          "output_type": "stream",
          "text": [
            "1    22788\n",
            "0     1068\n",
            "Name: MULTIPLE_OFFENSE, dtype: int64\n"
          ],
          "name": "stdout"
        },
        {
          "output_type": "execute_result",
          "data": {
            "text/plain": [
              "<matplotlib.axes._subplots.AxesSubplot at 0x7fe7ce5e9198>"
            ]
          },
          "metadata": {
            "tags": []
          },
          "execution_count": 53
        },
        {
          "output_type": "display_data",
          "data": {
            "image/png": "[encoded data removed]",
            "text/plain": [
              "<Figure size 432x288 with 1 Axes>"
            ]
          },
          "metadata": {
            "tags": [],
            "needs_background": "light"
          }
        }
      ]
    },
    {
      "cell_type": "markdown",
      "metadata": {
        "id": "n8lijWK7Exfl",
        "colab_type": "text"
      },
      "source": [
        "The data is highly imblanced"
      ]
    },
    {
      "cell_type": "code",
      "metadata": {
        "id": "2c8G_W0XZFbd",
        "colab_type": "code",
        "colab": {
          "base_uri": "https://localhost:8080/",
          "height": 340
        },
        "outputId": "f2f19798-429a-4fe2-852f-2abb8361b4be"
      },
      "source": [
        "train.isna().sum()"
      ],
      "execution_count": null,
      "outputs": [
        {
          "output_type": "execute_result",
          "data": {
            "text/plain": [
              "INCIDENT_ID           0\n",
              "DATE                  0\n",
              "X_1                   0\n",
              "X_2                   0\n",
              "X_3                   0\n",
              "X_4                   0\n",
              "X_5                   0\n",
              "X_6                   0\n",
              "X_7                   0\n",
              "X_8                   0\n",
              "X_9                   0\n",
              "X_10                  0\n",
              "X_11                  0\n",
              "X_12                182\n",
              "X_13                  0\n",
              "X_14                  0\n",
              "X_15                  0\n",
              "MULTIPLE_OFFENSE      0\n",
              "dtype: int64"
            ]
          },
          "metadata": {
            "tags": []
          },
          "execution_count": 54
        }
      ]
    },
    {
      "cell_type": "markdown",
      "metadata": {
        "id": "GQwPJP-yZIlo",
        "colab_type": "text"
      },
      "source": [
        "X_12 column has missing values. "
      ]
    },
    {
      "cell_type": "code",
      "metadata": {
        "id": "8SbHZAVa_tLB",
        "colab_type": "code",
        "colab": {
          "base_uri": "https://localhost:8080/",
          "height": 425
        },
        "outputId": "141f53be-0a7f-4237-9026-6d680ab6f6c2"
      },
      "source": [
        "train.X_12.value_counts()"
      ],
      "execution_count": null,
      "outputs": [
        {
          "output_type": "execute_result",
          "data": {
            "text/plain": [
              "1.0     15674\n",
              "0.0      5171\n",
              "2.0      2039\n",
              "3.0       476\n",
              "4.0       176\n",
              "5.0        59\n",
              "6.0        36\n",
              "8.0         9\n",
              "10.0        7\n",
              "9.0         6\n",
              "7.0         4\n",
              "11.0        4\n",
              "15.0        2\n",
              "20.0        2\n",
              "17.0        1\n",
              "58.0        1\n",
              "50.0        1\n",
              "40.0        1\n",
              "16.0        1\n",
              "90.0        1\n",
              "12.0        1\n",
              "30.0        1\n",
              "14.0        1\n",
              "Name: X_12, dtype: int64"
            ]
          },
          "metadata": {
            "tags": []
          },
          "execution_count": 55
        }
      ]
    },
    {
      "cell_type": "markdown",
      "metadata": {
        "id": "YZSL5r_2_42s",
        "colab_type": "text"
      },
      "source": [
        "As the distribution is highly skewed and the proportion of missing values is very less (<1%), it is reasonable to fill missing values with mode. In this case I am using RandomForest to predict missing values "
      ]
    },
    {
      "cell_type": "code",
      "metadata": {
        "id": "VFOUHEta_2Ph",
        "colab_type": "code",
        "colab": {
          "base_uri": "https://localhost:8080/",
          "height": 51
        },
        "outputId": "7630b480-26f3-4091-86f4-7488b5b10be8"
      },
      "source": [
        "# Looking at target distribution of missing values\n",
        "train[train.X_12.isna()].MULTIPLE_OFFENSE.value_counts()"
      ],
      "execution_count": null,
      "outputs": [
        {
          "output_type": "execute_result",
          "data": {
            "text/plain": [
              "1    182\n",
              "Name: MULTIPLE_OFFENSE, dtype: int64"
            ]
          },
          "metadata": {
            "tags": []
          },
          "execution_count": 56
        }
      ]
    },
    {
      "cell_type": "markdown",
      "metadata": {
        "id": "wgNppiVvEtwR",
        "colab_type": "text"
      },
      "source": [
        "All missing values are from the majority class"
      ]
    },
    {
      "cell_type": "code",
      "metadata": {
        "id": "nuRWyEHhYlIT",
        "colab_type": "code",
        "colab": {
          "base_uri": "https://localhost:8080/",
          "height": 102
        },
        "outputId": "8cf746d3-9078-4904-ae4a-283ea167fd91"
      },
      "source": [
        "# Filling missing values\n",
        "imputer = MissForest()\n",
        "imputed_data = imputer.fit_transform(train.drop(['INCIDENT_ID', 'DATE', 'MULTIPLE_OFFENSE'], axis=1))\n",
        "train['X_12'] = imputed_data[:, 11]\n",
        "del imputed_data"
      ],
      "execution_count": null,
      "outputs": [
        {
          "output_type": "stream",
          "text": [
            "Iteration: 0\n",
            "Iteration: 1\n",
            "Iteration: 2\n",
            "Iteration: 3\n",
            "Iteration: 4\n"
          ],
          "name": "stdout"
        }
      ]
    },
    {
      "cell_type": "markdown",
      "metadata": {
        "id": "uh8nRCDlKYAn",
        "colab_type": "text"
      },
      "source": [
        "#### Analyzing date variable"
      ]
    },
    {
      "cell_type": "code",
      "metadata": {
        "id": "-PbrGXZ5Ilt1",
        "colab_type": "code",
        "colab": {}
      },
      "source": [
        "train.DATE = pd.to_datetime(train.DATE, format='%d-%b-%y')\n",
        "\n",
        "train['year'] = train.DATE.apply(lambda x : x.year)\n",
        "train['week'] = train.DATE.apply(lambda x : x.week)\n",
        "train['month'] = train.DATE.apply(lambda x : x.month)\n",
        "train['day'] = train.DATE.apply(lambda x : x.day)\n",
        "train['weekday'] = train.DATE.apply(lambda x : x.weekday())"
      ],
      "execution_count": null,
      "outputs": []
    },
    {
      "cell_type": "code",
      "metadata": {
        "id": "Cvsx5ksfHO3n",
        "colab_type": "code",
        "colab": {
          "base_uri": "https://localhost:8080/",
          "height": 142
        },
        "outputId": "c83f0b4c-afdb-4b67-f588-30e921b5dc4a"
      },
      "source": [
        "train.head(3)"
      ],
      "execution_count": null,
      "outputs": [
        {
          "output_type": "execute_result",
          "data": {
            "text/html": [
              "<div>\n",
              "<style scoped>\n",
              "    .dataframe tbody tr th:only-of-type {\n",
              "        vertical-align: middle;\n",
              "    }\n",
              "\n",
              "    .dataframe tbody tr th {\n",
              "        vertical-align: top;\n",
              "    }\n",
              "\n",
              "    .dataframe thead th {\n",
              "        text-align: right;\n",
              "    }\n",
              "</style>\n",
              "<table border=\"1\" class=\"dataframe\">\n",
              "  <thead>\n",
              "    <tr style=\"text-align: right;\">\n",
              "      <th></th>\n",
              "      <th>INCIDENT_ID</th>\n",
              "      <th>DATE</th>\n",
              "      <th>X_1</th>\n",
              "      <th>X_2</th>\n",
              "      <th>X_3</th>\n",
              "      <th>X_4</th>\n",
              "      <th>X_5</th>\n",
              "      <th>X_6</th>\n",
              "      <th>X_7</th>\n",
              "      <th>X_8</th>\n",
              "      <th>X_9</th>\n",
              "      <th>X_10</th>\n",
              "      <th>X_11</th>\n",
              "      <th>X_12</th>\n",
              "      <th>X_13</th>\n",
              "      <th>X_14</th>\n",
              "      <th>X_15</th>\n",
              "      <th>MULTIPLE_OFFENSE</th>\n",
              "      <th>year</th>\n",
              "      <th>week</th>\n",
              "      <th>month</th>\n",
              "      <th>day</th>\n",
              "      <th>weekday</th>\n",
              "    </tr>\n",
              "  </thead>\n",
              "  <tbody>\n",
              "    <tr>\n",
              "      <th>0</th>\n",
              "      <td>CR_102659</td>\n",
              "      <td>2004-07-04</td>\n",
              "      <td>0</td>\n",
              "      <td>36</td>\n",
              "      <td>34</td>\n",
              "      <td>2</td>\n",
              "      <td>1</td>\n",
              "      <td>5</td>\n",
              "      <td>6</td>\n",
              "      <td>1</td>\n",
              "      <td>6</td>\n",
              "      <td>1</td>\n",
              "      <td>174</td>\n",
              "      <td>1.0</td>\n",
              "      <td>92</td>\n",
              "      <td>29</td>\n",
              "      <td>36</td>\n",
              "      <td>0</td>\n",
              "      <td>2004</td>\n",
              "      <td>27</td>\n",
              "      <td>7</td>\n",
              "      <td>4</td>\n",
              "      <td>6</td>\n",
              "    </tr>\n",
              "    <tr>\n",
              "      <th>1</th>\n",
              "      <td>CR_189752</td>\n",
              "      <td>2017-07-18</td>\n",
              "      <td>1</td>\n",
              "      <td>37</td>\n",
              "      <td>37</td>\n",
              "      <td>0</td>\n",
              "      <td>0</td>\n",
              "      <td>11</td>\n",
              "      <td>17</td>\n",
              "      <td>1</td>\n",
              "      <td>6</td>\n",
              "      <td>1</td>\n",
              "      <td>236</td>\n",
              "      <td>1.0</td>\n",
              "      <td>103</td>\n",
              "      <td>142</td>\n",
              "      <td>34</td>\n",
              "      <td>1</td>\n",
              "      <td>2017</td>\n",
              "      <td>29</td>\n",
              "      <td>7</td>\n",
              "      <td>18</td>\n",
              "      <td>1</td>\n",
              "    </tr>\n",
              "    <tr>\n",
              "      <th>2</th>\n",
              "      <td>CR_184637</td>\n",
              "      <td>2017-03-15</td>\n",
              "      <td>0</td>\n",
              "      <td>3</td>\n",
              "      <td>2</td>\n",
              "      <td>3</td>\n",
              "      <td>5</td>\n",
              "      <td>1</td>\n",
              "      <td>0</td>\n",
              "      <td>2</td>\n",
              "      <td>3</td>\n",
              "      <td>1</td>\n",
              "      <td>174</td>\n",
              "      <td>1.0</td>\n",
              "      <td>110</td>\n",
              "      <td>93</td>\n",
              "      <td>34</td>\n",
              "      <td>1</td>\n",
              "      <td>2017</td>\n",
              "      <td>11</td>\n",
              "      <td>3</td>\n",
              "      <td>15</td>\n",
              "      <td>2</td>\n",
              "    </tr>\n",
              "  </tbody>\n",
              "</table>\n",
              "</div>"
            ],
            "text/plain": [
              "  INCIDENT_ID       DATE  X_1  X_2  X_3  ...  year  week  month  day  weekday\n",
              "0   CR_102659 2004-07-04    0   36   34  ...  2004    27      7    4        6\n",
              "1   CR_189752 2017-07-18    1   37   37  ...  2017    29      7   18        1\n",
              "2   CR_184637 2017-03-15    0    3    2  ...  2017    11      3   15        2\n",
              "\n",
              "[3 rows x 23 columns]"
            ]
          },
          "metadata": {
            "tags": []
          },
          "execution_count": 60
        }
      ]
    },
    {
      "cell_type": "code",
      "metadata": {
        "id": "ktx6sqRtHNU4",
        "colab_type": "code",
        "colab": {
          "base_uri": "https://localhost:8080/",
          "height": 442
        },
        "outputId": "99b052e3-3bff-472f-f505-700d7ac0b841"
      },
      "source": [
        "# Year level target variable ratio\n",
        "yearly_ratios = train[train.MULTIPLE_OFFENSE==0].groupby(['year']).INCIDENT_ID.count()/train[train.MULTIPLE_OFFENSE==1].groupby(['year']).INCIDENT_ID.count()\n",
        "plt.figure(figsize=(15,7))\n",
        "sns.barplot(y = yearly_ratios.values, x = yearly_ratios.index)\n",
        "plt.show()"
      ],
      "execution_count": null,
      "outputs": [
        {
          "output_type": "display_data",
          "data": {
            "image/png": "[encoded data removed]",
            "text/plain": [
              "<Figure size 1080x504 with 1 Axes>"
            ]
          },
          "metadata": {
            "tags": [],
            "needs_background": "light"
          }
        }
      ]
    },
    {
      "cell_type": "code",
      "metadata": {
        "id": "a4p1sIWXHNX6",
        "colab_type": "code",
        "colab": {
          "base_uri": "https://localhost:8080/",
          "height": 442
        },
        "outputId": "590ccfd2-b5ff-4cd2-dea3-72d2164a7ff5"
      },
      "source": [
        "month_ratios = train[train.MULTIPLE_OFFENSE==0].groupby(['month']).INCIDENT_ID.count()/train[train.MULTIPLE_OFFENSE==1].groupby(['month']).INCIDENT_ID.count()\n",
        "plt.figure(figsize=(10,7))\n",
        "sns.barplot(y = month_ratios.values, x = month_ratios.index)\n",
        "plt.show()"
      ],
      "execution_count": null,
      "outputs": [
        {
          "output_type": "display_data",
          "data": {
            "image/png": "[encoded data removed]",
            "text/plain": [
              "<Figure size 720x504 with 1 Axes>"
            ]
          },
          "metadata": {
            "tags": [],
            "needs_background": "light"
          }
        }
      ]
    },
    {
      "cell_type": "code",
      "metadata": {
        "id": "-e3o0hz3HNbm",
        "colab_type": "code",
        "colab": {
          "base_uri": "https://localhost:8080/",
          "height": 442
        },
        "outputId": "6fabd35b-953f-41bb-8f85-ecedfa690426"
      },
      "source": [
        "weekday_ratios = train[train.MULTIPLE_OFFENSE==0].groupby(['weekday']).INCIDENT_ID.count()/train[train.MULTIPLE_OFFENSE==1].groupby(['weekday']).INCIDENT_ID.count()\n",
        "plt.figure(figsize=(10,7))\n",
        "sns.barplot(y = weekday_ratios.values, x = weekday_ratios.index)\n",
        "plt.show()"
      ],
      "execution_count": null,
      "outputs": [
        {
          "output_type": "display_data",
          "data": {
            "image/png": "[encoded data removed]",
            "text/plain": [
              "<Figure size 720x504 with 1 Axes>"
            ]
          },
          "metadata": {
            "tags": [],
            "needs_background": "light"
          }
        }
      ]
    },
    {
      "cell_type": "markdown",
      "metadata": {
        "id": "RCRd-pi9lBub",
        "colab_type": "text"
      },
      "source": [
        "#### Variables distribution analysis"
      ]
    },
    {
      "cell_type": "code",
      "metadata": {
        "id": "Qr4lMob9lyES",
        "colab_type": "code",
        "colab": {
          "base_uri": "https://localhost:8080/",
          "height": 514
        },
        "outputId": "81266dda-174f-424a-a9cf-30196feaf693"
      },
      "source": [
        "train.describe().iloc[:, :-6].T"
      ],
      "execution_count": null,
      "outputs": [
        {
          "output_type": "execute_result",
          "data": {
            "text/html": [
              "<div>\n",
              "<style scoped>\n",
              "    .dataframe tbody tr th:only-of-type {\n",
              "        vertical-align: middle;\n",
              "    }\n",
              "\n",
              "    .dataframe tbody tr th {\n",
              "        vertical-align: top;\n",
              "    }\n",
              "\n",
              "    .dataframe thead th {\n",
              "        text-align: right;\n",
              "    }\n",
              "</style>\n",
              "<table border=\"1\" class=\"dataframe\">\n",
              "  <thead>\n",
              "    <tr style=\"text-align: right;\">\n",
              "      <th></th>\n",
              "      <th>count</th>\n",
              "      <th>mean</th>\n",
              "      <th>std</th>\n",
              "      <th>min</th>\n",
              "      <th>25%</th>\n",
              "      <th>50%</th>\n",
              "      <th>75%</th>\n",
              "      <th>max</th>\n",
              "    </tr>\n",
              "  </thead>\n",
              "  <tbody>\n",
              "    <tr>\n",
              "      <th>X_1</th>\n",
              "      <td>23856.0</td>\n",
              "      <td>0.483778</td>\n",
              "      <td>1.439738</td>\n",
              "      <td>0.0</td>\n",
              "      <td>0.0</td>\n",
              "      <td>0.0</td>\n",
              "      <td>0.0</td>\n",
              "      <td>7.0</td>\n",
              "    </tr>\n",
              "    <tr>\n",
              "      <th>X_2</th>\n",
              "      <td>23856.0</td>\n",
              "      <td>24.791206</td>\n",
              "      <td>15.240231</td>\n",
              "      <td>0.0</td>\n",
              "      <td>7.0</td>\n",
              "      <td>24.0</td>\n",
              "      <td>36.0</td>\n",
              "      <td>52.0</td>\n",
              "    </tr>\n",
              "    <tr>\n",
              "      <th>X_3</th>\n",
              "      <td>23856.0</td>\n",
              "      <td>24.637450</td>\n",
              "      <td>15.135093</td>\n",
              "      <td>0.0</td>\n",
              "      <td>8.0</td>\n",
              "      <td>24.0</td>\n",
              "      <td>35.0</td>\n",
              "      <td>52.0</td>\n",
              "    </tr>\n",
              "    <tr>\n",
              "      <th>X_4</th>\n",
              "      <td>23856.0</td>\n",
              "      <td>4.276744</td>\n",
              "      <td>2.944672</td>\n",
              "      <td>0.0</td>\n",
              "      <td>2.0</td>\n",
              "      <td>4.0</td>\n",
              "      <td>6.0</td>\n",
              "      <td>10.0</td>\n",
              "    </tr>\n",
              "    <tr>\n",
              "      <th>X_5</th>\n",
              "      <td>23856.0</td>\n",
              "      <td>2.455609</td>\n",
              "      <td>1.963095</td>\n",
              "      <td>0.0</td>\n",
              "      <td>1.0</td>\n",
              "      <td>3.0</td>\n",
              "      <td>5.0</td>\n",
              "      <td>5.0</td>\n",
              "    </tr>\n",
              "    <tr>\n",
              "      <th>X_6</th>\n",
              "      <td>23856.0</td>\n",
              "      <td>6.154175</td>\n",
              "      <td>4.471756</td>\n",
              "      <td>1.0</td>\n",
              "      <td>3.0</td>\n",
              "      <td>5.0</td>\n",
              "      <td>8.0</td>\n",
              "      <td>19.0</td>\n",
              "    </tr>\n",
              "    <tr>\n",
              "      <th>X_7</th>\n",
              "      <td>23856.0</td>\n",
              "      <td>4.876509</td>\n",
              "      <td>3.881931</td>\n",
              "      <td>0.0</td>\n",
              "      <td>2.0</td>\n",
              "      <td>4.0</td>\n",
              "      <td>7.0</td>\n",
              "      <td>18.0</td>\n",
              "    </tr>\n",
              "    <tr>\n",
              "      <th>X_8</th>\n",
              "      <td>23856.0</td>\n",
              "      <td>0.972460</td>\n",
              "      <td>1.453144</td>\n",
              "      <td>0.0</td>\n",
              "      <td>0.0</td>\n",
              "      <td>1.0</td>\n",
              "      <td>1.0</td>\n",
              "      <td>99.0</td>\n",
              "    </tr>\n",
              "    <tr>\n",
              "      <th>X_9</th>\n",
              "      <td>23856.0</td>\n",
              "      <td>4.924128</td>\n",
              "      <td>1.362625</td>\n",
              "      <td>0.0</td>\n",
              "      <td>5.0</td>\n",
              "      <td>5.0</td>\n",
              "      <td>6.0</td>\n",
              "      <td>6.0</td>\n",
              "    </tr>\n",
              "    <tr>\n",
              "      <th>X_10</th>\n",
              "      <td>23856.0</td>\n",
              "      <td>1.244802</td>\n",
              "      <td>1.119301</td>\n",
              "      <td>1.0</td>\n",
              "      <td>1.0</td>\n",
              "      <td>1.0</td>\n",
              "      <td>1.0</td>\n",
              "      <td>90.0</td>\n",
              "    </tr>\n",
              "    <tr>\n",
              "      <th>X_11</th>\n",
              "      <td>23856.0</td>\n",
              "      <td>206.954519</td>\n",
              "      <td>93.033348</td>\n",
              "      <td>0.0</td>\n",
              "      <td>174.0</td>\n",
              "      <td>249.0</td>\n",
              "      <td>249.0</td>\n",
              "      <td>332.0</td>\n",
              "    </tr>\n",
              "    <tr>\n",
              "      <th>X_12</th>\n",
              "      <td>23856.0</td>\n",
              "      <td>0.966644</td>\n",
              "      <td>1.166337</td>\n",
              "      <td>0.0</td>\n",
              "      <td>1.0</td>\n",
              "      <td>1.0</td>\n",
              "      <td>1.0</td>\n",
              "      <td>90.0</td>\n",
              "    </tr>\n",
              "    <tr>\n",
              "      <th>X_13</th>\n",
              "      <td>23856.0</td>\n",
              "      <td>85.237383</td>\n",
              "      <td>27.597226</td>\n",
              "      <td>0.0</td>\n",
              "      <td>72.0</td>\n",
              "      <td>98.0</td>\n",
              "      <td>103.0</td>\n",
              "      <td>116.0</td>\n",
              "    </tr>\n",
              "    <tr>\n",
              "      <th>X_14</th>\n",
              "      <td>23856.0</td>\n",
              "      <td>72.674296</td>\n",
              "      <td>43.297320</td>\n",
              "      <td>0.0</td>\n",
              "      <td>29.0</td>\n",
              "      <td>62.0</td>\n",
              "      <td>107.0</td>\n",
              "      <td>142.0</td>\n",
              "    </tr>\n",
              "    <tr>\n",
              "      <th>X_15</th>\n",
              "      <td>23856.0</td>\n",
              "      <td>33.464747</td>\n",
              "      <td>8.386834</td>\n",
              "      <td>0.0</td>\n",
              "      <td>34.0</td>\n",
              "      <td>34.0</td>\n",
              "      <td>34.0</td>\n",
              "      <td>50.0</td>\n",
              "    </tr>\n",
              "  </tbody>\n",
              "</table>\n",
              "</div>"
            ],
            "text/plain": [
              "        count        mean        std  min    25%    50%    75%    max\n",
              "X_1   23856.0    0.483778   1.439738  0.0    0.0    0.0    0.0    7.0\n",
              "X_2   23856.0   24.791206  15.240231  0.0    7.0   24.0   36.0   52.0\n",
              "X_3   23856.0   24.637450  15.135093  0.0    8.0   24.0   35.0   52.0\n",
              "X_4   23856.0    4.276744   2.944672  0.0    2.0    4.0    6.0   10.0\n",
              "X_5   23856.0    2.455609   1.963095  0.0    1.0    3.0    5.0    5.0\n",
              "X_6   23856.0    6.154175   4.471756  1.0    3.0    5.0    8.0   19.0\n",
              "X_7   23856.0    4.876509   3.881931  0.0    2.0    4.0    7.0   18.0\n",
              "X_8   23856.0    0.972460   1.453144  0.0    0.0    1.0    1.0   99.0\n",
              "X_9   23856.0    4.924128   1.362625  0.0    5.0    5.0    6.0    6.0\n",
              "X_10  23856.0    1.244802   1.119301  1.0    1.0    1.0    1.0   90.0\n",
              "X_11  23856.0  206.954519  93.033348  0.0  174.0  249.0  249.0  332.0\n",
              "X_12  23856.0    0.966644   1.166337  0.0    1.0    1.0    1.0   90.0\n",
              "X_13  23856.0   85.237383  27.597226  0.0   72.0   98.0  103.0  116.0\n",
              "X_14  23856.0   72.674296  43.297320  0.0   29.0   62.0  107.0  142.0\n",
              "X_15  23856.0   33.464747   8.386834  0.0   34.0   34.0   34.0   50.0"
            ]
          },
          "metadata": {
            "tags": []
          },
          "execution_count": 68
        }
      ]
    },
    {
      "cell_type": "markdown",
      "metadata": {
        "id": "76n9rlHALPd4",
        "colab_type": "text"
      },
      "source": [
        "Dropping date level variables are they didn't improve the results"
      ]
    },
    {
      "cell_type": "code",
      "metadata": {
        "id": "RncFlFt14BCJ",
        "colab_type": "code",
        "colab": {}
      },
      "source": [
        "train.drop(['INCIDENT_ID', 'DATE', 'year', 'week', 'month', 'day', 'weekday'], axis=1, inplace=True)"
      ],
      "execution_count": null,
      "outputs": []
    },
    {
      "cell_type": "markdown",
      "metadata": {
        "id": "vo_zXOxdM00V",
        "colab_type": "text"
      },
      "source": [
        "#### Creating all helper funcitons"
      ]
    },
    {
      "cell_type": "markdown",
      "metadata": {
        "id": "cdzDhOW9LnZp",
        "colab_type": "text"
      },
      "source": [
        "Funciton to sample data to reduce the effect of imblance"
      ]
    },
    {
      "cell_type": "code",
      "metadata": {
        "id": "_WaAZW9QXR9X",
        "colab_type": "code",
        "colab": {}
      },
      "source": [
        "def data_sampling(df, over_sampling_strategy, under_sampling_strategy, target_column='MULTIPLE_OFFENSE'):\n",
        "  #Over sampling and undersampling funcitons\n",
        "  over = over_sampling.SMOTE(sampling_strategy=over_sampling_strategy)\n",
        "  under = under_sampling.RandomUnderSampler(sampling_strategy=under_sampling_strategy)\n",
        "\n",
        "  over_sampled_data, _ = over.fit_resample(train.values, train[target_column].values)\n",
        "  sampled_data, _ = under.fit_resample(over_sampled_data, over_sampled_data[:, 15])\n",
        "  #Converting sampled data to pandas dataframe\n",
        "  sampled_df = pd.DataFrame(sampled_data)\n",
        "  sampled_df.columns = train.columns\n",
        "  return sampled_df"
      ],
      "execution_count": null,
      "outputs": []
    },
    {
      "cell_type": "markdown",
      "metadata": {
        "id": "Dtiu9qIQL9b-",
        "colab_type": "text"
      },
      "source": [
        "Function to create folds for cross validation"
      ]
    },
    {
      "cell_type": "code",
      "metadata": {
        "id": "aaRSRkwqCVoa",
        "colab_type": "code",
        "colab": {}
      },
      "source": [
        "def create_folds(df, n_folds, target_column='MULTIPLE_OFFENSE'):\n",
        "  df['kFold'] = -1\n",
        "  kfold = StratifiedKFold(n_splits=n_folds, shuffle=True, random_state=18)\n",
        "  for fold, (train_idxs,val_idxs) in enumerate(kfold.split(X=df, y=df[target_column].values)):\n",
        "    df.loc[val_idxs, 'kFold'] = fold\n",
        "  return df"
      ],
      "execution_count": null,
      "outputs": []
    },
    {
      "cell_type": "markdown",
      "metadata": {
        "id": "KRlqsvzYMD23",
        "colab_type": "text"
      },
      "source": [
        "Function to triain data"
      ]
    },
    {
      "cell_type": "code",
      "metadata": {
        "id": "umv375bYbXcj",
        "colab_type": "code",
        "colab": {}
      },
      "source": [
        "def train_fn(df, n_folds, save_model=True, booster = 'gbtree', learning_rate = 0.1, max_depth = 3, subsample = 1, target_column='MULTIPLE_OFFENSE'):\n",
        "  all_recalls = []\n",
        "  if save_model:\n",
        "    if not os.path.exists('models'):\n",
        "      os.mkdir('models')\n",
        "    else:\n",
        "      shutil.rmtree('models')\n",
        "      os.mkdir('models')\n",
        "  for fold in range(n_folds):\n",
        "    train_df = df[df.kFold.isin(FOLD_MAPPING.get(fold))]\n",
        "    val_df = df[df.kFold == fold]\n",
        "\n",
        "    train_X = train_df.drop([target_column, 'kFold'], axis=1)\n",
        "    train_y = train_df[target_column].values\n",
        "\n",
        "    val_X = val_df.drop([target_column, 'kFold'], axis=1)\n",
        "    val_y = val_df[target_column].values\n",
        "\n",
        "    #Model\n",
        "    clf = XGBClassifier(booster=booster, learning_rate=learning_rate, max_depth=max_depth, subsample=subsample)\n",
        "    clf.fit(train_X, train_y)\n",
        "    predictions = clf.predict(val_X)\n",
        "    if save_model:\n",
        "      joblib.dump(clf, f\"models/{algo}_{fold}.pkl\")\n",
        "      print(f\"Saved {algo}_{fold}.pkl\")\n",
        "    recall = recall_score(val_y, predictions)\n",
        "    all_recalls.append(recall)\n",
        "    # print(\"Recall score  for fold {} is {}\".format(fold, recall_score(val_y, predictions)))\n",
        "  return all_recalls, np.mean(all_recalls)"
      ],
      "execution_count": null,
      "outputs": []
    },
    {
      "cell_type": "markdown",
      "metadata": {
        "id": "kXvpsGZeMeHr",
        "colab_type": "text"
      },
      "source": [
        "Function to predict on test data"
      ]
    },
    {
      "cell_type": "code",
      "metadata": {
        "id": "yqbP2LYdc4d_",
        "colab_type": "code",
        "colab": {}
      },
      "source": [
        "def test(test_df):\n",
        "  test_idxs = test_df.INCIDENT_ID.values\n",
        "  imputer = MissForest()\n",
        "  imputed_data = imputer.fit_transform(test_df.drop(['INCIDENT_ID', 'DATE'], axis=1))\n",
        "  test_df['X_12'] = imputed_data[:, 11]\n",
        "  del imputed_data\n",
        "  test_df = test_df.drop(['INCIDENT_ID', 'DATE'], axis=1)\n",
        "  predictions = pd.DataFrame()\n",
        "  for fold in range(n_folds):\n",
        "    clf = joblib.load(f\"models/{algo}_{fold}.pkl\")\n",
        "    predictions[f\"pred_{fold}\"] = clf.predict(test_df)\n",
        "  final_predictions = predictions.mode(axis=1)[0].values\n",
        "  submission = pd.DataFrame({'INCIDENT_ID':test_idxs, 'MULTIPLE_OFFENSE':final_predictions})\n",
        "  return submission"
      ],
      "execution_count": null,
      "outputs": []
    },
    {
      "cell_type": "markdown",
      "metadata": {
        "id": "P7kQhWH9kjC_",
        "colab_type": "text"
      },
      "source": [
        "As this is a classification problem and with the data size we have, the choices in terms of algorithms we have are logistic regression, tree based models and SVMs. \n",
        "\n",
        "As there is no evident linearity and most of the features skewed, I am chose to got with tree model. In this case I am using xgboost.\n",
        "\n",
        "In tree based models, data normalization is not needed. So, avoiding data normalization"
      ]
    },
    {
      "cell_type": "markdown",
      "metadata": {
        "id": "9l7d_VZCNG-R",
        "colab_type": "text"
      },
      "source": [
        "#### Main function"
      ]
    },
    {
      "cell_type": "code",
      "metadata": {
        "id": "Y8iuqON_Msp4",
        "colab_type": "code",
        "colab": {}
      },
      "source": [
        "n_folds = 5\n",
        "FOLD_MAPPING = {\n",
        "    0 : [1,2,3,4],\n",
        "    1 : [0,2,3,4],\n",
        "    2 : [1,0,3,4],\n",
        "    3 : [1,2,0,4],\n",
        "    4 : [1,2,3,0],\n",
        "}\n",
        "\n",
        "parameters = {\n",
        "    'over_sampling_strategy' : np.arange(0.1, 0.6, 0.1),\n",
        "    'under_sampling_strategy' : np.arange(0.8, 0.4, -0.1),\n",
        "    'booster' : ['gbtree', 'dart'],\n",
        "    'learning_rate' : np.arange(0.1, 0.4, 0.1),\n",
        "    'max_depth' : np.arange(3, 8, 1),\n",
        "    'subsample' : np.arange(0.5, 1.25, 0.25)\n",
        "}\n"
      ],
      "execution_count": null,
      "outputs": []
    },
    {
      "cell_type": "markdown",
      "metadata": {
        "id": "XNdjDwn9g4ho",
        "colab_type": "text"
      },
      "source": [
        "#### Grid search to determine oversampling and undersampling ratios"
      ]
    },
    {
      "cell_type": "code",
      "metadata": {
        "id": "67qCJhG6dZnx",
        "colab_type": "code",
        "colab": {}
      },
      "source": [
        "scores = []\n",
        "\n",
        "for o in parameters['over_sampling_strategy']:\n",
        "  for u in parameters['under_sampling_strategy']:\n",
        "      sampled_df = data_sampling(train, o, u)\n",
        "      df = create_folds(sampled_df, n_folds)\n",
        "      recall_arr, recall_mean = train_fn(df, n_folds, False, 'gbtree', 0.1, 6)\n",
        "      scores.append((o, u, recall_arr, recall_mean))\n",
        "      print(o, u, recall_mean)\n",
        "\n",
        "scores = sorted(scores, key=lambda x : x[3], reverse=True)\n",
        "scores[0:2]"
      ],
      "execution_count": null,
      "outputs": []
    },
    {
      "cell_type": "markdown",
      "metadata": {
        "id": "RXdPEfCRg9Un",
        "colab_type": "text"
      },
      "source": [
        "#### Grid search to determine for boosting parameters"
      ]
    },
    {
      "cell_type": "code",
      "metadata": {
        "id": "qgi2f8WbYRdV",
        "colab_type": "code",
        "colab": {}
      },
      "source": [
        "o = 0.5\n",
        "u = 0.5\n",
        "scores2 = []\n",
        "for b in parameters['booster']:\n",
        "  for lr in parameters['learning_rate']:\n",
        "    for d in parameters['max_depth']:\n",
        "        sampled_df = data_sampling(train, o, u)\n",
        "        df = create_folds(sampled_df, n_folds)\n",
        "        recall_arr, recall_mean = train_fn(df, n_folds, False, b, lr, d)\n",
        "        scores2.append((b, lr, d, recall_arr, recall_mean))\n",
        "\n",
        "scores2 = sorted(scores2, key=lambda x : x[3], reverse=True)\n",
        "scores2[0:2]"
      ],
      "execution_count": null,
      "outputs": []
    },
    {
      "cell_type": "markdown",
      "metadata": {
        "id": "_UkD6HAgjvD_",
        "colab_type": "text"
      },
      "source": [
        "#### Training and validation"
      ]
    },
    {
      "cell_type": "code",
      "metadata": {
        "id": "UC5QzkxVcSeZ",
        "colab_type": "code",
        "colab": {
          "base_uri": "https://localhost:8080/",
          "height": 136
        },
        "outputId": "4222e294-3344-4de3-d6fd-ad43b6a830f7"
      },
      "source": [
        "o = 0.5\n",
        "u = 0.5\n",
        "algo = 'xgb_gbtree'\n",
        "sampled_df = data_sampling(train, o, u)\n",
        "df = create_folds(sampled_df, n_folds)\n",
        "recall_arr, recall_mean = train_fn(df, n_folds, True, booster='gbtree', learning_rate=0.2, max_depth=4)\n",
        "print(recall_mean)\n",
        "print(recall_arr)"
      ],
      "execution_count": null,
      "outputs": [
        {
          "output_type": "stream",
          "text": [
            "Saved xgb_dart_0.pkl\n",
            "Saved xgb_dart_1.pkl\n",
            "Saved xgb_dart_2.pkl\n",
            "Saved xgb_dart_3.pkl\n",
            "Saved xgb_dart_4.pkl\n",
            "0.9995611917996827\n",
            "[0.9997806055287407, 0.999341816586222, 0.9995611147684881, 1.0, 0.9991224221149627]\n"
          ],
          "name": "stdout"
        }
      ]
    },
    {
      "cell_type": "code",
      "metadata": {
        "id": "HbPUYe-FiuZS",
        "colab_type": "code",
        "colab": {
          "base_uri": "https://localhost:8080/",
          "height": 102
        },
        "outputId": "7297a484-8b80-4470-d877-aeb1b04567dd"
      },
      "source": [
        "os.listdir('models')"
      ],
      "execution_count": null,
      "outputs": [
        {
          "output_type": "execute_result",
          "data": {
            "text/plain": [
              "['xgb_dart_2.pkl',\n",
              " 'xgb_dart_1.pkl',\n",
              " 'xgb_dart_4.pkl',\n",
              " 'xgb_dart_0.pkl',\n",
              " 'xgb_dart_3.pkl']"
            ]
          },
          "metadata": {
            "tags": []
          },
          "execution_count": 48
        }
      ]
    },
    {
      "cell_type": "markdown",
      "metadata": {
        "id": "7P6kZLt4jzvm",
        "colab_type": "text"
      },
      "source": [
        "#### Predicting on the test data"
      ]
    },
    {
      "cell_type": "code",
      "metadata": {
        "id": "hcTRU1wmMv09",
        "colab_type": "code",
        "colab": {}
      },
      "source": [
        "submission = test(test_df)\n",
        "submission.to_csv(f\"{algo}.csv\", index=False)  \n",
        "files.download(f\"{algo}.csv\")"
      ],
      "execution_count": null,
      "outputs": []
    },
    {
      "cell_type": "code",
      "metadata": {
        "id": "SkGrZlvah_0p",
        "colab_type": "code",
        "colab": {}
      },
      "source": [
        ""
      ],
      "execution_count": null,
      "outputs": []
    }
  ]
}